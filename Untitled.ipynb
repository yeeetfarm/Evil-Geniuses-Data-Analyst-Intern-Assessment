{
 "cells": [
  {
   "cell_type": "code",
   "execution_count": 1,
   "id": "b713fa50",
   "metadata": {},
   "outputs": [],
   "source": [
    "#Import relevant libraries\n",
    "import pandas as pd\n",
    "import matplotlib.pyplot as plt\n",
    "import numpy as np\n",
    "import calendar"
   ]
  },
  {
   "cell_type": "code",
   "execution_count": 2,
   "id": "84a7e36c",
   "metadata": {},
   "outputs": [
    {
     "data": {
      "text/html": [
       "<div>\n",
       "<style scoped>\n",
       "    .dataframe tbody tr th:only-of-type {\n",
       "        vertical-align: middle;\n",
       "    }\n",
       "\n",
       "    .dataframe tbody tr th {\n",
       "        vertical-align: top;\n",
       "    }\n",
       "\n",
       "    .dataframe thead th {\n",
       "        text-align: right;\n",
       "    }\n",
       "</style>\n",
       "<table border=\"1\" class=\"dataframe\">\n",
       "  <thead>\n",
       "    <tr style=\"text-align: right;\">\n",
       "      <th></th>\n",
       "      <th>Published Date</th>\n",
       "      <th>Account</th>\n",
       "      <th>Account Type</th>\n",
       "      <th>Campaign Name</th>\n",
       "      <th>Total Impressions</th>\n",
       "      <th>Total Engagements</th>\n",
       "      <th>Media Type</th>\n",
       "    </tr>\n",
       "  </thead>\n",
       "  <tbody>\n",
       "    <tr>\n",
       "      <th>0</th>\n",
       "      <td>01-01-2023 14:59</td>\n",
       "      <td>General</td>\n",
       "      <td>FBPAGE</td>\n",
       "      <td>N/A</td>\n",
       "      <td>0</td>\n",
       "      <td>0</td>\n",
       "      <td>Photo</td>\n",
       "    </tr>\n",
       "    <tr>\n",
       "      <th>1</th>\n",
       "      <td>01-03-2023 10:34</td>\n",
       "      <td>CSGO</td>\n",
       "      <td>TWITTER</td>\n",
       "      <td>N/A</td>\n",
       "      <td>0</td>\n",
       "      <td>0</td>\n",
       "      <td>Link</td>\n",
       "    </tr>\n",
       "    <tr>\n",
       "      <th>2</th>\n",
       "      <td>01-03-2023 10:34</td>\n",
       "      <td>CSGO</td>\n",
       "      <td>TWITTER</td>\n",
       "      <td>N/A</td>\n",
       "      <td>2116</td>\n",
       "      <td>42</td>\n",
       "      <td>Text</td>\n",
       "    </tr>\n",
       "    <tr>\n",
       "      <th>3</th>\n",
       "      <td>01-03-2023 10:34</td>\n",
       "      <td>CSGO</td>\n",
       "      <td>TWITTER</td>\n",
       "      <td>N/A</td>\n",
       "      <td>0</td>\n",
       "      <td>0</td>\n",
       "      <td>Link</td>\n",
       "    </tr>\n",
       "    <tr>\n",
       "      <th>4</th>\n",
       "      <td>01-03-2023 10:35</td>\n",
       "      <td>CSGO</td>\n",
       "      <td>TWITTER</td>\n",
       "      <td>N/A</td>\n",
       "      <td>0</td>\n",
       "      <td>0</td>\n",
       "      <td>Link</td>\n",
       "    </tr>\n",
       "    <tr>\n",
       "      <th>...</th>\n",
       "      <td>...</td>\n",
       "      <td>...</td>\n",
       "      <td>...</td>\n",
       "      <td>...</td>\n",
       "      <td>...</td>\n",
       "      <td>...</td>\n",
       "      <td>...</td>\n",
       "    </tr>\n",
       "    <tr>\n",
       "      <th>3474</th>\n",
       "      <td>03-31-2023 19:43</td>\n",
       "      <td>CSGO</td>\n",
       "      <td>TWITTER</td>\n",
       "      <td>Community Engagement</td>\n",
       "      <td>9517</td>\n",
       "      <td>1215</td>\n",
       "      <td>Video</td>\n",
       "    </tr>\n",
       "    <tr>\n",
       "      <th>3475</th>\n",
       "      <td>03-31-2023 19:49</td>\n",
       "      <td>CSGO</td>\n",
       "      <td>TWITTER</td>\n",
       "      <td>N/A</td>\n",
       "      <td>0</td>\n",
       "      <td>0</td>\n",
       "      <td>Text</td>\n",
       "    </tr>\n",
       "    <tr>\n",
       "      <th>3476</th>\n",
       "      <td>03-31-2023 19:49</td>\n",
       "      <td>CSGO</td>\n",
       "      <td>TWITTER</td>\n",
       "      <td>N/A</td>\n",
       "      <td>0</td>\n",
       "      <td>0</td>\n",
       "      <td>Text</td>\n",
       "    </tr>\n",
       "    <tr>\n",
       "      <th>3477</th>\n",
       "      <td>03-31-2023 19:49</td>\n",
       "      <td>CSGO</td>\n",
       "      <td>TWITTER</td>\n",
       "      <td>N/A</td>\n",
       "      <td>0</td>\n",
       "      <td>0</td>\n",
       "      <td>Text</td>\n",
       "    </tr>\n",
       "    <tr>\n",
       "      <th>3478</th>\n",
       "      <td>03-31-2023 19:55</td>\n",
       "      <td>CSGO</td>\n",
       "      <td>TWITTER</td>\n",
       "      <td>N/A</td>\n",
       "      <td>0</td>\n",
       "      <td>0</td>\n",
       "      <td>Text</td>\n",
       "    </tr>\n",
       "  </tbody>\n",
       "</table>\n",
       "<p>3479 rows × 7 columns</p>\n",
       "</div>"
      ],
      "text/plain": [
       "        Published Date   Account Account Type          Campaign Name  \\\n",
       "0     01-01-2023 14:59  General        FBPAGE                   N/A    \n",
       "1     01-03-2023 10:34      CSGO      TWITTER                   N/A    \n",
       "2     01-03-2023 10:34      CSGO      TWITTER                   N/A    \n",
       "3     01-03-2023 10:34      CSGO      TWITTER                   N/A    \n",
       "4     01-03-2023 10:35      CSGO      TWITTER                   N/A    \n",
       "...                ...       ...          ...                    ...   \n",
       "3474  03-31-2023 19:43      CSGO      TWITTER  Community Engagement    \n",
       "3475  03-31-2023 19:49      CSGO      TWITTER                   N/A    \n",
       "3476  03-31-2023 19:49      CSGO      TWITTER                   N/A    \n",
       "3477  03-31-2023 19:49      CSGO      TWITTER                   N/A    \n",
       "3478  03-31-2023 19:55      CSGO      TWITTER                   N/A    \n",
       "\n",
       "      Total Impressions  Total Engagements Media Type  \n",
       "0                     0                  0      Photo  \n",
       "1                     0                  0       Link  \n",
       "2                  2116                 42       Text  \n",
       "3                     0                  0       Link  \n",
       "4                     0                  0       Link  \n",
       "...                 ...                ...        ...  \n",
       "3474               9517               1215      Video  \n",
       "3475                  0                  0       Text  \n",
       "3476                  0                  0       Text  \n",
       "3477                  0                  0       Text  \n",
       "3478                  0                  0       Text  \n",
       "\n",
       "[3479 rows x 7 columns]"
      ]
     },
     "execution_count": 2,
     "metadata": {},
     "output_type": "execute_result"
    }
   ],
   "source": [
    "#Read in .csv file from social_data.xlsx\n",
    "social_data=pd.read_csv('C:/Users/jakey/Downloads/social_data.xlsx - Data.csv')\n",
    "#Sort dataset by chronological date\n",
    "social_data=social_data.sort_values(by=['Published Date'])\n",
    "social_data=social_data.reset_index(drop=True)\n",
    "social_data"
   ]
  },
  {
   "cell_type": "code",
   "execution_count": 3,
   "id": "91ce5f02",
   "metadata": {},
   "outputs": [
    {
     "data": {
      "text/plain": [
       "0.40492621761200764"
      ]
     },
     "execution_count": 3,
     "metadata": {},
     "output_type": "execute_result"
    }
   ],
   "source": [
    "#Question 1\n",
    "#Typical engagment rate=total engagements/total impressions\n",
    "np.mean(social_data['Total Engagements']/social_data['Total Impressions'])"
   ]
  },
  {
   "cell_type": "markdown",
   "id": "da5451b5",
   "metadata": {},
   "source": [
    "I calculate the typical engagement rate by dividing the \"Total Engagements\" column by the \"Total Impressions\" column. This gives me 3479 rows of information, one row per \"Published Date\" provided. In order to get the typical engagement rate expected, I take the mean of the column of quotients which gives me about a 40% typical engagement rate expected from the 3 months of data provided."
   ]
  },
  {
   "cell_type": "code",
   "execution_count": 4,
   "id": "39e54fe8",
   "metadata": {},
   "outputs": [
    {
     "data": {
      "text/plain": [
       "0.06496119574590399"
      ]
     },
     "execution_count": 4,
     "metadata": {},
     "output_type": "execute_result"
    }
   ],
   "source": [
    "social_data['Engagement Rate']=social_data['Total Engagements']/social_data['Total Impressions']\n",
    "social_data['Engagement Rate']=social_data['Engagement Rate'].fillna(0)\n",
    "rows_greater_than_or_equal_15=len(social_data[social_data['Engagement Rate']>=.15])\n",
    "rows_greater_than_or_equal_15/len(social_data)"
   ]
  },
  {
   "cell_type": "markdown",
   "id": "d381641d",
   "metadata": {},
   "source": [
    "To calculate the likelihood that we can achieve a 15% engagement rate, I create a new column in the \"social_data\" dataframe called \"Engagement Rate\" which is the quotient of \"Total Engagements\" divided by \"Total Impressions,\" or the engagement rate for each row. I create a subset of the social_data dataframe where the \"Engagement Rate\" is greater than or equal to .15 called \"rows_greater_than_or_equal_15\" and find the length of it to be 226. This means there are 226 days where the engagement rate was greater than or equal to 15%. I create another subset called \"rows_less_than_15\" which is every other row that is less than .15. I divide 226 by the length of the \"social_data\" dataframe, which is 3479, to get the likelihood of an engagement rate of 15% or higher. This likelihood value is about 6.5%."
   ]
  },
  {
   "cell_type": "code",
   "execution_count": 5,
   "id": "8a5bebaf",
   "metadata": {},
   "outputs": [
    {
     "data": {
      "text/html": [
       "<div>\n",
       "<style scoped>\n",
       "    .dataframe tbody tr th:only-of-type {\n",
       "        vertical-align: middle;\n",
       "    }\n",
       "\n",
       "    .dataframe tbody tr th {\n",
       "        vertical-align: top;\n",
       "    }\n",
       "\n",
       "    .dataframe thead th {\n",
       "        text-align: right;\n",
       "    }\n",
       "</style>\n",
       "<table border=\"1\" class=\"dataframe\">\n",
       "  <thead>\n",
       "    <tr style=\"text-align: right;\">\n",
       "      <th></th>\n",
       "      <th>Published Date</th>\n",
       "      <th>Account</th>\n",
       "      <th>Account Type</th>\n",
       "      <th>Campaign Name</th>\n",
       "      <th>Total Impressions</th>\n",
       "      <th>Total Engagements</th>\n",
       "      <th>Media Type</th>\n",
       "      <th>Engagement Rate</th>\n",
       "      <th>Date</th>\n",
       "      <th>Time</th>\n",
       "      <th>Day of the Week</th>\n",
       "    </tr>\n",
       "  </thead>\n",
       "  <tbody>\n",
       "    <tr>\n",
       "      <th>0</th>\n",
       "      <td>01-01-2023 14:59</td>\n",
       "      <td>General</td>\n",
       "      <td>FBPAGE</td>\n",
       "      <td>N/A</td>\n",
       "      <td>0</td>\n",
       "      <td>0</td>\n",
       "      <td>Photo</td>\n",
       "      <td>0.000000</td>\n",
       "      <td>2023-01-01</td>\n",
       "      <td>14:59:00</td>\n",
       "      <td>Sunday</td>\n",
       "    </tr>\n",
       "    <tr>\n",
       "      <th>1</th>\n",
       "      <td>01-03-2023 10:34</td>\n",
       "      <td>CSGO</td>\n",
       "      <td>TWITTER</td>\n",
       "      <td>N/A</td>\n",
       "      <td>0</td>\n",
       "      <td>0</td>\n",
       "      <td>Link</td>\n",
       "      <td>0.000000</td>\n",
       "      <td>2023-01-03</td>\n",
       "      <td>10:34:00</td>\n",
       "      <td>Tuesday</td>\n",
       "    </tr>\n",
       "    <tr>\n",
       "      <th>2</th>\n",
       "      <td>01-03-2023 10:34</td>\n",
       "      <td>CSGO</td>\n",
       "      <td>TWITTER</td>\n",
       "      <td>N/A</td>\n",
       "      <td>2116</td>\n",
       "      <td>42</td>\n",
       "      <td>Text</td>\n",
       "      <td>0.019849</td>\n",
       "      <td>2023-01-03</td>\n",
       "      <td>10:34:00</td>\n",
       "      <td>Tuesday</td>\n",
       "    </tr>\n",
       "    <tr>\n",
       "      <th>3</th>\n",
       "      <td>01-03-2023 10:34</td>\n",
       "      <td>CSGO</td>\n",
       "      <td>TWITTER</td>\n",
       "      <td>N/A</td>\n",
       "      <td>0</td>\n",
       "      <td>0</td>\n",
       "      <td>Link</td>\n",
       "      <td>0.000000</td>\n",
       "      <td>2023-01-03</td>\n",
       "      <td>10:34:00</td>\n",
       "      <td>Tuesday</td>\n",
       "    </tr>\n",
       "    <tr>\n",
       "      <th>4</th>\n",
       "      <td>01-03-2023 10:35</td>\n",
       "      <td>CSGO</td>\n",
       "      <td>TWITTER</td>\n",
       "      <td>N/A</td>\n",
       "      <td>0</td>\n",
       "      <td>0</td>\n",
       "      <td>Link</td>\n",
       "      <td>0.000000</td>\n",
       "      <td>2023-01-03</td>\n",
       "      <td>10:35:00</td>\n",
       "      <td>Tuesday</td>\n",
       "    </tr>\n",
       "    <tr>\n",
       "      <th>...</th>\n",
       "      <td>...</td>\n",
       "      <td>...</td>\n",
       "      <td>...</td>\n",
       "      <td>...</td>\n",
       "      <td>...</td>\n",
       "      <td>...</td>\n",
       "      <td>...</td>\n",
       "      <td>...</td>\n",
       "      <td>...</td>\n",
       "      <td>...</td>\n",
       "      <td>...</td>\n",
       "    </tr>\n",
       "    <tr>\n",
       "      <th>3474</th>\n",
       "      <td>03-31-2023 19:43</td>\n",
       "      <td>CSGO</td>\n",
       "      <td>TWITTER</td>\n",
       "      <td>Community Engagement</td>\n",
       "      <td>9517</td>\n",
       "      <td>1215</td>\n",
       "      <td>Video</td>\n",
       "      <td>0.127666</td>\n",
       "      <td>2023-03-31</td>\n",
       "      <td>19:43:00</td>\n",
       "      <td>Friday</td>\n",
       "    </tr>\n",
       "    <tr>\n",
       "      <th>3475</th>\n",
       "      <td>03-31-2023 19:49</td>\n",
       "      <td>CSGO</td>\n",
       "      <td>TWITTER</td>\n",
       "      <td>N/A</td>\n",
       "      <td>0</td>\n",
       "      <td>0</td>\n",
       "      <td>Text</td>\n",
       "      <td>0.000000</td>\n",
       "      <td>2023-03-31</td>\n",
       "      <td>19:49:00</td>\n",
       "      <td>Friday</td>\n",
       "    </tr>\n",
       "    <tr>\n",
       "      <th>3476</th>\n",
       "      <td>03-31-2023 19:49</td>\n",
       "      <td>CSGO</td>\n",
       "      <td>TWITTER</td>\n",
       "      <td>N/A</td>\n",
       "      <td>0</td>\n",
       "      <td>0</td>\n",
       "      <td>Text</td>\n",
       "      <td>0.000000</td>\n",
       "      <td>2023-03-31</td>\n",
       "      <td>19:49:00</td>\n",
       "      <td>Friday</td>\n",
       "    </tr>\n",
       "    <tr>\n",
       "      <th>3477</th>\n",
       "      <td>03-31-2023 19:49</td>\n",
       "      <td>CSGO</td>\n",
       "      <td>TWITTER</td>\n",
       "      <td>N/A</td>\n",
       "      <td>0</td>\n",
       "      <td>0</td>\n",
       "      <td>Text</td>\n",
       "      <td>0.000000</td>\n",
       "      <td>2023-03-31</td>\n",
       "      <td>19:49:00</td>\n",
       "      <td>Friday</td>\n",
       "    </tr>\n",
       "    <tr>\n",
       "      <th>3478</th>\n",
       "      <td>03-31-2023 19:55</td>\n",
       "      <td>CSGO</td>\n",
       "      <td>TWITTER</td>\n",
       "      <td>N/A</td>\n",
       "      <td>0</td>\n",
       "      <td>0</td>\n",
       "      <td>Text</td>\n",
       "      <td>0.000000</td>\n",
       "      <td>2023-03-31</td>\n",
       "      <td>19:55:00</td>\n",
       "      <td>Friday</td>\n",
       "    </tr>\n",
       "  </tbody>\n",
       "</table>\n",
       "<p>3479 rows × 11 columns</p>\n",
       "</div>"
      ],
      "text/plain": [
       "        Published Date   Account Account Type          Campaign Name  \\\n",
       "0     01-01-2023 14:59  General        FBPAGE                   N/A    \n",
       "1     01-03-2023 10:34      CSGO      TWITTER                   N/A    \n",
       "2     01-03-2023 10:34      CSGO      TWITTER                   N/A    \n",
       "3     01-03-2023 10:34      CSGO      TWITTER                   N/A    \n",
       "4     01-03-2023 10:35      CSGO      TWITTER                   N/A    \n",
       "...                ...       ...          ...                    ...   \n",
       "3474  03-31-2023 19:43      CSGO      TWITTER  Community Engagement    \n",
       "3475  03-31-2023 19:49      CSGO      TWITTER                   N/A    \n",
       "3476  03-31-2023 19:49      CSGO      TWITTER                   N/A    \n",
       "3477  03-31-2023 19:49      CSGO      TWITTER                   N/A    \n",
       "3478  03-31-2023 19:55      CSGO      TWITTER                   N/A    \n",
       "\n",
       "      Total Impressions  Total Engagements Media Type  Engagement Rate  \\\n",
       "0                     0                  0      Photo         0.000000   \n",
       "1                     0                  0       Link         0.000000   \n",
       "2                  2116                 42       Text         0.019849   \n",
       "3                     0                  0       Link         0.000000   \n",
       "4                     0                  0       Link         0.000000   \n",
       "...                 ...                ...        ...              ...   \n",
       "3474               9517               1215      Video         0.127666   \n",
       "3475                  0                  0       Text         0.000000   \n",
       "3476                  0                  0       Text         0.000000   \n",
       "3477                  0                  0       Text         0.000000   \n",
       "3478                  0                  0       Text         0.000000   \n",
       "\n",
       "            Date      Time Day of the Week  \n",
       "0     2023-01-01  14:59:00          Sunday  \n",
       "1     2023-01-03  10:34:00         Tuesday  \n",
       "2     2023-01-03  10:34:00         Tuesday  \n",
       "3     2023-01-03  10:34:00         Tuesday  \n",
       "4     2023-01-03  10:35:00         Tuesday  \n",
       "...          ...       ...             ...  \n",
       "3474  2023-03-31  19:43:00          Friday  \n",
       "3475  2023-03-31  19:49:00          Friday  \n",
       "3476  2023-03-31  19:49:00          Friday  \n",
       "3477  2023-03-31  19:49:00          Friday  \n",
       "3478  2023-03-31  19:55:00          Friday  \n",
       "\n",
       "[3479 rows x 11 columns]"
      ]
     },
     "execution_count": 5,
     "metadata": {},
     "output_type": "execute_result"
    }
   ],
   "source": [
    "#Question 2\n",
    "datetime=pd.to_datetime(social_data['Published Date'], format='%m-%d-%Y %H:%M')\n",
    "social_data['Date']=0\n",
    "social_data['Time']=0\n",
    "for i in range(len(social_data)):\n",
    "    social_data.iat[i,8]=datetime[i].date()\n",
    "    social_data.iat[i,9]=datetime[i].time()\n",
    "#Monday=0, Tuesday=1, Wednesday=2, Thursday=3, Friday=4, Saturday=5, Sunday=6\n",
    "social_data['Day of the Week']=0\n",
    "for i in range(len(social_data)):\n",
    "    if social_data.iat[i,8].weekday()==0:\n",
    "        social_data.iat[i,10]='Monday'\n",
    "    elif social_data.iat[i,8].weekday()==1:\n",
    "        social_data.iat[i,10]='Tuesday'\n",
    "    elif social_data.iat[i,8].weekday()==2:\n",
    "        social_data.iat[i,10]='Wednesday'\n",
    "    elif social_data.iat[i,8].weekday()==3:\n",
    "        social_data.iat[i,10]='Thursday'\n",
    "    elif social_data.iat[i,8].weekday()==4:\n",
    "        social_data.iat[i,10]='Friday'\n",
    "    elif social_data.iat[i,8].weekday()==5:\n",
    "        social_data.iat[i,10]='Saturday'\n",
    "    elif social_data.iat[i,8].weekday()==6:\n",
    "        social_data.iat[i,10]='Sunday'\n",
    "social_data"
   ]
  },
  {
   "cell_type": "code",
   "execution_count": 6,
   "id": "8a8930da",
   "metadata": {},
   "outputs": [
    {
     "data": {
      "image/png": "[encoded data removed]",
      "text/plain": [
       "<Figure size 432x288 with 1 Axes>"
      ]
     },
     "metadata": {
      "needs_background": "light"
     },
     "output_type": "display_data"
    }
   ],
   "source": [
    "#Day of the week vs engagement rates\n",
    "weekdays=['Monday','Tuesday','Wednesday','Thursday','Friday','Saturday','Sunday']\n",
    "mondaycount=0\n",
    "tuesdaycount=0\n",
    "wednesdaycount=0\n",
    "thursdaycount=0\n",
    "fridaycount=0\n",
    "saturdaycount=0\n",
    "sundaycount=0\n",
    "for i in range(len(social_data)):\n",
    "    if social_data.iat[i,10]=='Monday':\n",
    "        mondaycount+=social_data.iat[i,7]\n",
    "    elif social_data.iat[i,10]=='Tuesday':\n",
    "        tuesdaycount+=social_data.iat[i,7]\n",
    "    elif social_data.iat[i,10]=='Wednesday':\n",
    "        wednesdaycount+=social_data.iat[i,7]\n",
    "    elif social_data.iat[i,10]=='Thursday':\n",
    "        thursdaycount+=social_data.iat[i,7]\n",
    "    elif social_data.iat[i,10]=='Friday':\n",
    "        fridaycount+=social_data.iat[i,7]\n",
    "    elif social_data.iat[i,10]=='Saturday':\n",
    "        saturdaycount+=social_data.iat[i,7]\n",
    "    elif social_data.iat[i,10]=='Sunday':\n",
    "        sundaycount+=social_data.iat[i,7]\n",
    "weekdayrate=[mondaycount,tuesdaycount,wednesdaycount,thursdaycount,fridaycount,saturdaycount,sundaycount]\n",
    "plt.bar(weekdays,weekdayrate)\n",
    "plt.xlabel('Weekdays')\n",
    "plt.ylabel('Total Engagement Rate')\n",
    "plt.title('Weekdays vs Total Engagement Rate')\n",
    "plt.show()"
   ]
  },
  {
   "cell_type": "markdown",
   "id": "e510eca0",
   "metadata": {},
   "source": [
    "The histogram above shows that day of the week does affect engagement rates because Friday's engagement rate is drastically higher than the other days of the week. This means Evil Geniuses should try to post on their social accounts on Friday to get the most engagement rates."
   ]
  },
  {
   "cell_type": "code",
   "execution_count": 7,
   "id": "48873a54",
   "metadata": {},
   "outputs": [
    {
     "data": {
      "image/png": "[encoded data removed]",
      "text/plain": [
       "<Figure size 432x288 with 1 Axes>"
      ]
     },
     "metadata": {
      "needs_background": "light"
     },
     "output_type": "display_data"
    }
   ],
   "source": [
    "#Time vs engagement rates\n",
    "count0=0\n",
    "count1=0\n",
    "count2=0\n",
    "count3=0\n",
    "count4=0\n",
    "count5=0\n",
    "count6=0\n",
    "count7=0\n",
    "count8=0\n",
    "count9=0\n",
    "count10=0\n",
    "count11=0\n",
    "count12=0\n",
    "count13=0\n",
    "count14=0\n",
    "count15=0\n",
    "count16=0\n",
    "count17=0\n",
    "count18=0\n",
    "count19=0\n",
    "count20=0\n",
    "count21=0\n",
    "count22=0\n",
    "count23=0\n",
    "for i in range(len(social_data)):\n",
    "    if social_data.iat[i,9].hour==0:\n",
    "        count0+=social_data.iat[i,7]\n",
    "    elif social_data.iat[i,9].hour==1:\n",
    "        count1+=social_data.iat[i,7]\n",
    "    elif social_data.iat[i,9].hour==2:\n",
    "        count2+=social_data.iat[i,7]\n",
    "    elif social_data.iat[i,9].hour==3:\n",
    "        count3+=social_data.iat[i,7]\n",
    "    elif social_data.iat[i,9].hour==4:\n",
    "        count4+=social_data.iat[i,7]\n",
    "    elif social_data.iat[i,9].hour==5:\n",
    "        count5+=social_data.iat[i,7]\n",
    "    elif social_data.iat[i,9].hour==6:\n",
    "        count6+=social_data.iat[i,7]\n",
    "    elif social_data.iat[i,9].hour==7:\n",
    "        count7+=social_data.iat[i,7]\n",
    "    elif social_data.iat[i,9].hour==8:\n",
    "        count8+=social_data.iat[i,7]\n",
    "    elif social_data.iat[i,9].hour==9:\n",
    "        count9+=social_data.iat[i,7]\n",
    "    elif social_data.iat[i,9].hour==10:\n",
    "        count10+=social_data.iat[i,7]\n",
    "    elif social_data.iat[i,9].hour==11:\n",
    "        count11+=social_data.iat[i,7]\n",
    "    elif social_data.iat[i,9].hour==12:\n",
    "        count12+=social_data.iat[i,7]\n",
    "    elif social_data.iat[i,9].hour==13:\n",
    "        count13+=social_data.iat[i,7]\n",
    "    elif social_data.iat[i,9].hour==14:\n",
    "        count14+=social_data.iat[i,7]\n",
    "    elif social_data.iat[i,9].hour==15:\n",
    "        count15+=social_data.iat[i,7]\n",
    "    elif social_data.iat[i,9].hour==16:\n",
    "        count16+=social_data.iat[i,7]\n",
    "    elif social_data.iat[i,9].hour==17:\n",
    "        count17+=social_data.iat[i,7]\n",
    "    elif social_data.iat[i,9].hour==18:\n",
    "        count18+=social_data.iat[i,7]\n",
    "    elif social_data.iat[i,9].hour==19:\n",
    "        count19+=social_data.iat[i,7]\n",
    "    elif social_data.iat[i,9].hour==20:\n",
    "        count20+=social_data.iat[i,7]\n",
    "    elif social_data.iat[i,9].hour==21:\n",
    "        count21+=social_data.iat[i,7]\n",
    "    elif social_data.iat[i,9].hour==22:\n",
    "        count22+=social_data.iat[i,7]\n",
    "    elif social_data.iat[i,9].hour==23:\n",
    "        count23+=social_data.iat[i,7]\n",
    "hourcount=[count0,count1,count2,count3,count4,count5,count6,count7,count8,count9,count10,count11,count12,count13,count14,count15,count16,count17,count18,count19,count20,count21,count22,count23]\n",
    "hours=[0,1,2,3,4,5,6,7,8,9,10,11,12,13,14,15,16,17,18,19,20,21,22,23]\n",
    "plt.bar(hours,hourcount)\n",
    "plt.xlabel('Hours')\n",
    "plt.ylabel('Total Engagement Rate')\n",
    "plt.title('Hours vs Total Engagement Rate')\n",
    "plt.show()"
   ]
  },
  {
   "cell_type": "markdown",
   "id": "fd67fa49",
   "metadata": {},
   "source": [
    "The above histogram shows time does affect engagement rates as well. The 12 o'clock hour has significantly higher engagement rates than all the other hours of the day. With this data in mind, the best time to post social media activity would be Friday around 12 pm."
   ]
  },
  {
   "cell_type": "code",
   "execution_count": 8,
   "id": "f72a4c8a",
   "metadata": {},
   "outputs": [
    {
     "data": {
      "text/plain": [
       "General             2271\n",
       "DOTA2                803\n",
       "CSGO                 270\n",
       "Valorant              60\n",
       "Content Creators      53\n",
       "General               22\n",
       "Name: Account, dtype: int64"
      ]
     },
     "execution_count": 8,
     "metadata": {},
     "output_type": "execute_result"
    }
   ],
   "source": [
    "#Question 3\n",
    "#Game titles\n",
    "#Use .value_counts() to see the different game titles first\n",
    "social_data['Account'].value_counts()"
   ]
  },
  {
   "cell_type": "markdown",
   "id": "adfce8a0",
   "metadata": {},
   "source": [
    "I notice there are repeating \"General\" Account categories with 2 separate counts. After analyzing, I realize there are different inputs for \"General\" which are \"General\" and \"General \" with a space at the end. The function counts these separately so I will account for this."
   ]
  },
  {
   "cell_type": "code",
   "execution_count": 15,
   "id": "8e28204d",
   "metadata": {},
   "outputs": [
    {
     "data": {
      "image/png": "[encoded data removed]",
      "text/plain": [
       "<Figure size 432x288 with 1 Axes>"
      ]
     },
     "metadata": {
      "needs_background": "light"
     },
     "output_type": "display_data"
    }
   ],
   "source": [
    "generalcount=0\n",
    "dota2count=0\n",
    "csgocount=0\n",
    "valorantcount=0\n",
    "contentcreatorscount=0\n",
    "for i in range(len(social_data)):\n",
    "    if social_data.iat[i,1]=='General':\n",
    "        generalcount+=social_data.iat[i,7]\n",
    "    elif social_data.iat[i,1]=='General ':\n",
    "        generalcount+=social_data.iat[i,7]\n",
    "    elif social_data.iat[i,1]=='DOTA2':\n",
    "        dota2count+=social_data.iat[i,7]\n",
    "    elif social_data.iat[i,1]=='CSGO':\n",
    "        csgocount+=social_data.iat[i,7]\n",
    "    elif social_data.iat[i,1]=='Valorant':\n",
    "        valorantcount+=social_data.iat[i,7]\n",
    "    elif social_data.iat[i,1]=='Content Creators':\n",
    "        contentcreatorscount+=social_data.iat[i,7]\n",
    "accounts=['General','DOTA2','CSGO','Valorant','Content Creators']\n",
    "accountcount=[generalcount,dota2count,csgocount,valorantcount,contentcreatorscount]\n",
    "plt.bar(accounts,accountcount)\n",
    "plt.xlabel('Accounts')\n",
    "plt.ylabel('Total Engagement Rate')\n",
    "plt.title('Accounts vs Total Engagement Rate')\n",
    "plt.show()"
   ]
  },
  {
   "cell_type": "markdown",
   "id": "931732af",
   "metadata": {},
   "source": [
    "The \"General\" game title is doing the best in terms of social performance. If Evil Geniuses is solely focused on profits in the short term, they should prioritize posts related to the \"General\" category. However, if Evil Geniuses wants to grow as an organization in the long term, they should seek to grow engagement in the other accounts like DOTA2, CSGO, Valorant, and Content Creators to diversify engagement and profit. For example, Evil Geniuses could host a giveaway in Valorant from Evil Geniuses' pro players will which bring more attention to Evil Geniuses' Valorant account and perhaps viewers will stay if the giveaways are consistent or they come to like something about the players or team."
   ]
  },
  {
   "cell_type": "code",
   "execution_count": 17,
   "id": "0082676a",
   "metadata": {},
   "outputs": [
    {
     "data": {
      "text/plain": [
       "Photo       1490\n",
       "Video        967\n",
       "Text         910\n",
       "Link          94\n",
       "Carousel       9\n",
       "Mixed          5\n",
       "Album          4\n",
       "Name: Media Type, dtype: int64"
      ]
     },
     "execution_count": 17,
     "metadata": {},
     "output_type": "execute_result"
    }
   ],
   "source": [
    "#Question 4\n",
    "#Media\n",
    "social_data['Media Type'].value_counts()"
   ]
  },
  {
   "cell_type": "code",
   "execution_count": 24,
   "id": "9ec9a3bf",
   "metadata": {},
   "outputs": [
    {
     "data": {
      "image/png": "[encoded data removed]",
      "text/plain": [
       "<Figure size 432x288 with 1 Axes>"
      ]
     },
     "metadata": {
      "needs_background": "light"
     },
     "output_type": "display_data"
    }
   ],
   "source": [
    "photocount=0\n",
    "videocount=0\n",
    "textcount=0\n",
    "linkcount=0\n",
    "carouselcount=0\n",
    "mixedcount=0\n",
    "albumcount=0\n",
    "for i in range(len(social_data)):\n",
    "    if social_data.iat[i,6]=='Photo':\n",
    "        photocount+=social_data.iat[i,7]\n",
    "    elif social_data.iat[i,6]=='Video':\n",
    "        videocount+=social_data.iat[i,7]\n",
    "    elif social_data.iat[i,6]=='Text':\n",
    "        textcount+=social_data.iat[i,7]\n",
    "    elif social_data.iat[i,6]=='Link':\n",
    "        linkcount+=social_data.iat[i,7]\n",
    "    elif social_data.iat[i,6]=='Carousel':\n",
    "        carouselcount+=social_data.iat[i,7]\n",
    "    elif social_data.iat[i,6]=='Mixed':\n",
    "        mixedcount+=social_data.iat[i,7]\n",
    "    elif social_data.iat[i,6]=='Album':\n",
    "        albumcount+=social_data.iat[i,7]\n",
    "mediatype=['Photo','Video','Text','Link','Carousel','Mixed','Album']\n",
    "mediatypecount=[photocount,videocount,textcount,linkcount,carouselcount,mixedcount,albumcount]\n",
    "plt.bar(mediatype,mediatypecount)\n",
    "plt.xlabel('Media Type')\n",
    "plt.ylabel('Total Engagement Rate')\n",
    "plt.title('Media Type vs Total Engagement Rate')\n",
    "plt.show()"
   ]
  },
  {
   "cell_type": "markdown",
   "id": "1ed7bb03",
   "metadata": {},
   "source": [
    "The \"Photo\" media type performs the best."
   ]
  },
  {
   "cell_type": "code",
   "execution_count": 26,
   "id": "42410631",
   "metadata": {},
   "outputs": [
    {
     "data": {
      "text/plain": [
       "N/A                      1485\n",
       "Community Engagement     1411\n",
       "Evil Exhibited            420\n",
       "Evergreen                 163\n",
       "Name: Campaign Name, dtype: int64"
      ]
     },
     "execution_count": 26,
     "metadata": {},
     "output_type": "execute_result"
    }
   ],
   "source": [
    "#Question 5\n",
    "#Campaign\n",
    "social_data['Campaign Name'].value_counts()"
   ]
  },
  {
   "cell_type": "code",
   "execution_count": 34,
   "id": "eb566c6b",
   "metadata": {},
   "outputs": [
    {
     "data": {
      "image/png": "[encoded data removed]",
      "text/plain": [
       "<Figure size 432x288 with 1 Axes>"
      ]
     },
     "metadata": {
      "needs_background": "light"
     },
     "output_type": "display_data"
    }
   ],
   "source": [
    "nacount=0\n",
    "communityengagementcount=0\n",
    "evilexhibitedcount=0\n",
    "evergreencount=0\n",
    "for i in range(len(social_data)):\n",
    "    if social_data.iat[i,3]=='N/A ':\n",
    "        nacount+=social_data.iat[i,7]\n",
    "    elif social_data.iat[i,3]=='Community Engagement ':\n",
    "        communityengagementcount+=social_data.iat[i,7]\n",
    "    elif social_data.iat[i,3]=='Evil Exhibited ':\n",
    "        evilexhibitedcount+=social_data.iat[i,7]\n",
    "    elif social_data.iat[i,3]=='Evergreen ':\n",
    "        evergreencount+=social_data.iat[i,7]\n",
    "campaigntype=['N/A','Community Engagement','Evil Exhibited','Evergreen']\n",
    "campaigntypecount=[nacount,communityengagementcount,evilexhibitedcount,evergreencount]\n",
    "plt.bar(campaigntype,campaigntypecount)\n",
    "plt.xlabel('Campaign Type')\n",
    "plt.ylabel('Total Engagement Rate')\n",
    "plt.title('Campaign Type vs Total Engagement Rate')\n",
    "plt.show()"
   ]
  },
  {
   "cell_type": "markdown",
   "id": "c2d16532",
   "metadata": {},
   "source": [
    "The 'N/A' campaign type is the best performing campaign."
   ]
  },
  {
   "cell_type": "code",
   "execution_count": 36,
   "id": "941dfc70",
   "metadata": {},
   "outputs": [
    {
     "data": {
      "text/plain": [
       "TWITTER             1951\n",
       "INSTAGRAM            588\n",
       "FBPAGE               585\n",
       "YOUTUBE              220\n",
       "TIKTOK_BUSINESS      113\n",
       "LINKEDIN_COMPANY      22\n",
       "Name: Account Type, dtype: int64"
      ]
     },
     "execution_count": 36,
     "metadata": {},
     "output_type": "execute_result"
    }
   ],
   "source": [
    "#Question 6\n",
    "#Account\n",
    "social_data['Account Type'].value_counts()"
   ]
  },
  {
   "cell_type": "code",
   "execution_count": 38,
   "id": "ee6e1846",
   "metadata": {},
   "outputs": [
    {
     "data": {
      "image/png": "[encoded data removed]",
      "text/plain": [
       "<Figure size 432x288 with 1 Axes>"
      ]
     },
     "metadata": {
      "needs_background": "light"
     },
     "output_type": "display_data"
    }
   ],
   "source": [
    "twittercount=0\n",
    "instagramcount=0\n",
    "facebookcount=0\n",
    "youtubecount=0\n",
    "tiktokcount=0\n",
    "linkedincount=0\n",
    "for i in range(len(social_data)):\n",
    "    if social_data.iat[i,2]=='TWITTER':\n",
    "        twittercount+=social_data.iat[i,7]\n",
    "    elif social_data.iat[i,2]=='INSTAGRAM':\n",
    "        instagramcount+=social_data.iat[i,7]\n",
    "    elif social_data.iat[i,2]=='FBPAGE':\n",
    "        facebookcount+=social_data.iat[i,7]\n",
    "    elif social_data.iat[i,2]=='YOUTUBE':\n",
    "        youtubecount+=social_data.iat[i,7]\n",
    "    elif social_data.iat[i,2]=='TIKTOK_BUSINESS':\n",
    "        tiktokcount+=social_data.iat[i,7]\n",
    "    elif social_data.iat[i,2]=='LINKEDIN_COMPANY':\n",
    "        linkedincount+=social_data.iat[i,7]\n",
    "accounttype=['TWITTER','INSTAGRAM','FBPAGE','YOUTUBE','TIKTOK_BUSINESS','LINKEDIN_COMPANY']\n",
    "accounttypecount=[twittercount,instagramcount,facebookcount,youtubecount,tiktokcount,linkedincount]\n",
    "plt.bar(accounttype,accounttypecount)\n",
    "plt.xlabel('Account Type')\n",
    "plt.ylabel('Total Engagement Rate')\n",
    "plt.title('Account Type vs Total Engagement Rate')\n",
    "plt.show()"
   ]
  },
  {
   "cell_type": "markdown",
   "id": "9a0e1df0",
   "metadata": {},
   "source": [
    "The Facebook page account type has the highest engagement rate."
   ]
  },
  {
   "cell_type": "markdown",
   "id": "cb7a41de",
   "metadata": {},
   "source": [
    "Based on my discoveries, I would advise the following posting strategy: weigh the more popular variable types more but don't neglect the unpopular variable types.\n",
    "Continue to be consistent with the most highly engaged variables to maximize profit and keep it at high engagement rate. Specifically, continue to post photos of the \"General\" game type under the \"N/A\" campaign on Facebook on Fridays at 12 pm.\n",
    "At the same time, if Evil Geniuses wants to grow its organization name under every game type, it needs to diversify its social media channels discoveries. So while the most highly engaged variables should be posted more on, the other social channels, games, and campaigns also need to have some activity. This is not only to grow in all aspects but what if something bad suddenly happens to Facebook or the \"General\" game category? Then Evil Geniuses won'y have other sources to rely on. By maintaining and seeking to grow the less popular categories, Evil Geniuses can hedge against this possible risk.\n",
    "But, as we see from the data, solely posting won't grow these variables. Evil Geniuses "
   ]
  },
  {
   "cell_type": "markdown",
   "id": "0cea1854",
   "metadata": {},
   "source": [
    "Question 7  \n",
    "As we see from the data, solely posting won't grow the other variables because they are not getting much engagement to begin with. Thus the social media team needs to have activity outside just posting to bring engagment to the other accounts. For example, post about a Valorant giveaway on Instagram or Twitter because these are all less popular variables. Just by word of mouth and reposting, more and more people will see and become engaged with these accounts. In addition, because the \"General\" game is doing so well but social media accounts, besides Facebook, are not, perhaps the social media team could post about the \"General\" game category to these social accounts to attract users who may not use Facebook but use other social media. "
   ]
  }
 ],
 "metadata": {
  "kernelspec": {
   "display_name": "Python 3 (ipykernel)",
   "language": "python",
   "name": "python3"
  },
  "language_info": {
   "codemirror_mode": {
    "name": "ipython",
    "version": 3
   },
   "file_extension": ".py",
   "mimetype": "text/x-python",
   "name": "python",
   "nbconvert_exporter": "python",
   "pygments_lexer": "ipython3",
   "version": "3.9.12"
  }
 },
 "nbformat": 4,
 "nbformat_minor": 5
}
